{
 "cells": [
  {
   "cell_type": "markdown",
   "id": "ddba1217",
   "metadata": {},
   "source": [
    "# TO CREATE VOTES TABLE"
   ]
  },
  {
   "cell_type": "code",
   "execution_count": null,
   "id": "958803e3",
   "metadata": {},
   "outputs": [],
   "source": [
    "import sqlite3\n",
    "\n",
    "con = sqlite3.connect('votes.db')\n",
    "\n",
    "def create_table():\n",
    "        con.execute(\"CREATE TABLE IF NOT EXISTS PP (ID INT PRIMARY KEY NOT NULL, NAME TEXT NOT NULL, VOTES INT NOT NULL);\")\n",
    "        con.execute(\"INSERT INTO PP (ID, NAME, VOTES) VALUES (1, 'PARTY 1', 0);\")\n",
    "        con.execute(\"INSERT INTO PP (ID, NAME, VOTES) VALUES (2, 'PARTY 2', 0);\")\n",
    "        con.execute(\"INSERT INTO PP (ID, NAME, VOTES) VALUES (3, 'PARTY 3', 0);\")\n",
    "        con.execute(\"INSERT INTO PP (ID, NAME, VOTES) VALUES (4, 'NOTA', 0);\")\n",
    "        \n",
    "        # Insert more party records here...\n",
    "        con.commit()\n",
    "        print(\"CREATED AND INSERTED\")\n",
    "\n",
    "create_table()\n"
   ]
  },
  {
   "cell_type": "markdown",
   "id": "d4cd9468",
   "metadata": {},
   "source": [
    "# TO DISPLAY CONTENTS IN VOTES TABLE"
   ]
  },
  {
   "cell_type": "code",
   "execution_count": null,
   "id": "3aafc6ce",
   "metadata": {
    "scrolled": false
   },
   "outputs": [],
   "source": [
    "import sqlite3\n",
    "import tkinter as tk\n",
    "from tkinter import ttk\n",
    "\n",
    "# Connect to the SQLite database file\n",
    "conn = sqlite3.connect('VOTES.db')\n",
    "\n",
    "# Create a cursor object to execute SQL queries\n",
    "cursor = conn.cursor()\n",
    "\n",
    "# Execute a SELECT query to retrieve data from a table\n",
    "cursor.execute(\"SELECT * FROM PP\")  # Replace 'tablename' with the actual table name in your database\n",
    "\n",
    "# Fetch all the rows returned by the SELECT query\n",
    "rows = cursor.fetchall()\n",
    "\n",
    "# Get column names from the description attribute of the cursor\n",
    "columns = [description[0] for description in cursor.description]\n",
    "\n",
    "# Close the cursor and the database connection\n",
    "cursor.close()\n",
    "conn.close()\n",
    "\n",
    "# Tkinter application\n",
    "root = tk.Tk()\n",
    "root.title(\"Data Display\")\n",
    "root.geometry(\"500x300\")  # Set the initial window size\n",
    "\n",
    "# Create a Treeview widget to display the data\n",
    "tree = ttk.Treeview(root, columns=columns, show='headings')\n",
    "\n",
    "# Add columns to the Treeview\n",
    "for col in columns:\n",
    "    tree.heading(col, text=col, command=lambda c=col: sort_treeview(tree, c, False))  # Add column header sorting\n",
    "    tree.column(col, width=150)\n",
    "\n",
    "# Insert data into the Treeview\n",
    "for row in rows:\n",
    "    tree.insert('', 'end', values=row)\n",
    "\n",
    "# Create a scrollbar for the Treeview\n",
    "scrollbar = ttk.Scrollbar(root, orient=\"vertical\", command=tree.yview)\n",
    "tree.configure(yscrollcommand=scrollbar.set)\n",
    "\n",
    "# Pack the Treeview and scrollbar widgets\n",
    "tree.pack(fill='both', expand=True, padx=10, pady=10)  # Add padding to create a gap between rows\n",
    "scrollbar.pack(side='right', fill='y')\n",
    "\n",
    "# Set a bigger font for the Treeview headings\n",
    "style = ttk.Style()\n",
    "style.configure(\"Treeview.Heading\", font=(\"Arial\", 16, \"bold\"))  # Change the font family, size, and weight here\n",
    "\n",
    "# Set a bigger font for the Treeview cells\n",
    "style.configure(\"Treeview\", font=(\"Arial\", 14))  # Change the font family and size here\n",
    "\n",
    "# Function to sort the Treeview columns\n",
    "def sort_treeview(tv, col, reverse):\n",
    "    data = [(tv.set(child, col), child) for child in tv.get_children('')]\n",
    "    data.sort(reverse=reverse)\n",
    "\n",
    "    for index, (val, child) in enumerate(data):\n",
    "        tv.move(child, '', index)\n",
    "\n",
    "    tv.heading(col, command=lambda: sort_treeview(tv, col, not reverse))\n",
    "\n",
    "# Start the Tkinter main loop\n",
    "root.mainloop()\n"
   ]
  },
  {
   "cell_type": "markdown",
   "id": "7ea7f4cb",
   "metadata": {},
   "source": [
    "# TO DISPLAY CONTENT OF PEOPLE DATABASE WITH FACIAL"
   ]
  },
  {
   "cell_type": "code",
   "execution_count": null,
   "id": "5764a927",
   "metadata": {
    "scrolled": true
   },
   "outputs": [],
   "source": [
    "import sqlite3\n",
    "\n",
    "# Connect to the SQLite database file\n",
    "conn = sqlite3.connect('people.db')\n",
    "\n",
    "# Create a cursor object to execute SQL queries\n",
    "cursor = conn.cursor()\n",
    "\n",
    "# Execute a SELECT query to retrieve data from a table\n",
    "cursor.execute(\"SELECT * FROM VOTERID \")  # Replace 'tablename' with the actual table name in your database\n",
    "\n",
    "# Fetch all the rows returned by the SELECT query\n",
    "rows = cursor.fetchall()\n",
    "\n",
    "# Process and print the retrieved data\n",
    "for row in rows:\n",
    "    print(row)  # Modify this to display the specific columns or format the output as per your requirements\n",
    "\n",
    "# Close the cursor and the database connection\n",
    "cursor.close()\n",
    "conn.close()\n"
   ]
  },
  {
   "cell_type": "markdown",
   "id": "7ba4a3b5",
   "metadata": {},
   "source": [
    "# TO DISPLAY CONTENT OF PEOPLE DATABASE"
   ]
  },
  {
   "cell_type": "code",
   "execution_count": null,
   "id": "6c6a0626",
   "metadata": {},
   "outputs": [],
   "source": [
    "import sqlite3\n",
    "import tkinter as tk\n",
    "from tkinter import ttk\n",
    "\n",
    "def get_voter_data(conn):\n",
    "    cursor = conn.execute(\"SELECT ID, Name, Age, Gender, CH FROM VOTERID\")\n",
    "    return cursor.fetchall()\n",
    "\n",
    "def main():\n",
    "    # Connect to the SQLite database\n",
    "    conn = sqlite3.connect('people.db')\n",
    "\n",
    "    # Get data from the \"VOTERID\" table\n",
    "    voter_data = get_voter_data(conn)\n",
    "\n",
    "    # Close the database connection\n",
    "    conn.close()\n",
    "\n",
    "    # Create the Tkinter application\n",
    "    root = tk.Tk()\n",
    "    root.title(\"Voter Data Display\")\n",
    "    root.geometry(\"1000x300\")  # Set the window size\n",
    "\n",
    "    # Create a Treeview to display the data\n",
    "    tree = ttk.Treeview(root, columns=[\"ID\", \"Name\", \"Age\", \"Gender\", \"CH\"], show=\"headings\")\n",
    "\n",
    "    # Add columns to the Treeview\n",
    "    tree.heading(\"ID\", text=\"ID\", anchor=tk.CENTER)\n",
    "    tree.heading(\"Name\", text=\"Name\", anchor=tk.CENTER)\n",
    "    tree.heading(\"Age\", text=\"Age\", anchor=tk.CENTER)\n",
    "    tree.heading(\"Gender\", text=\"Gender\", anchor=tk.CENTER)\n",
    "    tree.heading(\"CH\", text=\"CH\", anchor=tk.CENTER)\n",
    "\n",
    "    # Insert data into the Treeview\n",
    "    for row in voter_data:\n",
    "        tree.insert(\"\", \"end\", values=row)\n",
    "\n",
    "    # Set a bigger font for the Treeview headings and cells\n",
    "    style = ttk.Style()\n",
    "    style.configure(\"Treeview.Heading\", font=(\"Arial\", 16, \"bold\"))\n",
    "    style.configure(\"Treeview\", font=(\"Arial\", 14))\n",
    "\n",
    "    # Create a scrollbar for the Treeview\n",
    "    scrollbar = ttk.Scrollbar(root, orient=\"vertical\", command=tree.yview)\n",
    "    tree.configure(yscrollcommand=scrollbar.set)\n",
    "\n",
    "    # Pack the Treeview and scrollbar widgets\n",
    "    tree.pack(fill=\"both\", expand=True)\n",
    "    scrollbar.pack(side=\"right\", fill=\"y\")\n",
    "\n",
    "    # Start the Tkinter main loop\n",
    "    root.mainloop()\n",
    "\n",
    "if __name__ == \"__main__\":\n",
    "    main()\n"
   ]
  },
  {
   "cell_type": "markdown",
   "id": "80a99df9",
   "metadata": {},
   "source": [
    "# TO DELETE FROM PEOPLE DATABASE"
   ]
  },
  {
   "cell_type": "code",
   "execution_count": null,
   "id": "bae770f3",
   "metadata": {},
   "outputs": [],
   "source": [
    "import sqlite3\n",
    "\n",
    "# Connect to the SQLite database\n",
    "conn = sqlite3.connect('people.db')\n",
    "\n",
    "# Create a cursor object\n",
    "cursor = conn.cursor()\n",
    "\n",
    "# Execute the DELETE query to remove all data from the table\n",
    "cursor.execute(\"DELETE FROM VOTERID\")\n",
    "\n",
    "# Commit the changes\n",
    "conn.commit()\n",
    "print(\"DELETED\")\n",
    "\n",
    "# Close the cursor and database connection\n",
    "cursor.close()\n",
    "conn.close()\n"
   ]
  },
  {
   "cell_type": "markdown",
   "id": "ec8e04ed",
   "metadata": {},
   "source": [
    "# TO DELETE FROM VOTES DATABASE"
   ]
  },
  {
   "cell_type": "code",
   "execution_count": null,
   "id": "6e4af0b8",
   "metadata": {},
   "outputs": [],
   "source": [
    "import sqlite3\n",
    "\n",
    "# Connect to the SQLite database\n",
    "conn = sqlite3.connect('votes.db')\n",
    "\n",
    "# Create a cursor object\n",
    "cursor = conn.cursor()\n",
    "\n",
    "# Execute the DELETE query to remove all data from the table\n",
    "cursor.execute(\"DELETE FROM PP\")\n",
    "\n",
    "# Commit the changes\n",
    "conn.commit()\n",
    "print(\"DELETED\")\n",
    "\n",
    "# Close the cursor and database connection\n",
    "cursor.close()\n",
    "conn.close()\n"
   ]
  },
  {
   "cell_type": "markdown",
   "id": "bff47386",
   "metadata": {},
   "source": [
    "# TO UPDATE CH IN PEOPLE DATBASE"
   ]
  },
  {
   "cell_type": "code",
   "execution_count": null,
   "id": "6e90a5ce",
   "metadata": {},
   "outputs": [],
   "source": [
    "import sqlite3\n",
    "\n",
    "def update_voter_ch(conn, voter_id, ch):\n",
    "    conn.execute(\"UPDATE VOTERID SET CH = ? WHERE ID = ?\", (ch, voter_id))\n",
    "    conn.commit()\n",
    "    print(\"CH value updated successfully.\")\n",
    "\n",
    "def main():\n",
    "    # Connect to the SQLite database\n",
    "    conn = sqlite3.connect('people.db')\n",
    "\n",
    "    # Prompt for the voter's ID and the updated CH value\n",
    "    voter_id = int(input(\"Enter the voter's ID: \"))\n",
    "    ch = int(input(\"Enter the updated CH value: \"))\n",
    "\n",
    "    # Update the CH value for the specified voter ID\n",
    "    update_voter_ch(conn, voter_id, ch)\n",
    "\n",
    "    # Close the database conn!ection\n",
    "    conn.close()\n",
    "\n",
    "if __name__ == '__main__':\n",
    "    main()\n"
   ]
  }
 ],
 "metadata": {
  "kernelspec": {
   "display_name": "Python 3 (ipykernel)",
   "language": "python",
   "name": "python3"
  },
  "language_info": {
   "codemirror_mode": {
    "name": "ipython",
    "version": 3
   },
   "file_extension": ".py",
   "mimetype": "text/x-python",
   "name": "python",
   "nbconvert_exporter": "python",
   "pygments_lexer": "ipython3",
   "version": "3.11.3"
  }
 },
 "nbformat": 4,
 "nbformat_minor": 5
}
